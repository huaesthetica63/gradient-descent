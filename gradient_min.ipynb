{
 "cells": [
  {
   "cell_type": "code",
   "execution_count": 26,
   "metadata": {},
   "outputs": [
    {
     "name": "stdout",
     "output_type": "stream",
     "text": [
      "sphere function, init vector:  [5, 4, 9]\n",
      "x =  [3.923188584616677e-06, 3.138550867693342e-06, 7.061739452310013e-06]\n",
      "f =  7.511007431187696e-11\n"
     ]
    }
   ],
   "source": [
    "import random\n",
    "import math\n",
    "# определим тестовую функцию для проверки оптимизации методом градиентного спуска\n",
    "#функция сферы - возвращает сумму квадратов аргументов\n",
    "def sphereFunc(x):\n",
    "    res = 0\n",
    "    for x_i in x:\n",
    "        res = res + x_i*x_i\n",
    "    return res\n",
    "#определим функцию градиента для этой функции в точке x\n",
    "def gradSphere(x):\n",
    "    return [2*x_i for x_i in x] #градиент - вектор частных производных\n",
    "#наша задача - найти минимум этой функции в определенном радиусе поиска (будем искать начало координат, т.к.\n",
    "#в этой точке функция принимает нулевое значение\n",
    "\n",
    "#функция создания случайной точки в n-мерном пространстве, каждая координата - случайное число от -а до а\n",
    "def randPoint(a,n):\n",
    "    return [random.randint(-a, a) for i in range(n)]\n",
    "def moveToGradient(x, grad, h):\n",
    "    return [x_i+grad[i]*h for i, x_i in enumerate(x)]\n",
    "def distance(x, xnew):\n",
    "    dist =0 \n",
    "    for i, x_i in enumerate(x):\n",
    "        dist = dist + pow(x_i-xnew[i], 2)\n",
    "    return math.sqrt(dist)\n",
    "v = randPoint(10, 3)\n",
    "print('sphere function, init vector: ', v)\n",
    "eps = 0.00001 #точность поиска (чем меньше значение, тем точнее поиск)\n",
    "h = 0.1 #шаг по градиенту от точки к точке\n",
    "while True:\n",
    "    grad = gradSphere(v)\n",
    "    if distance(grad,v) < eps:\n",
    "        break\n",
    "    v=moveToGradient(v, grad, -h)\n",
    "print('x = ',v)# печатаем точку минимума\n",
    "print('f = ',sphereFunc(v))#печатаем значение функции в точке"
   ]
  },
  {
   "cell_type": "code",
   "execution_count": null,
   "metadata": {},
   "outputs": [],
   "source": []
  }
 ],
 "metadata": {
  "kernelspec": {
   "display_name": "Python 3",
   "language": "python",
   "name": "python3"
  },
  "language_info": {
   "codemirror_mode": {
    "name": "ipython",
    "version": 3
   },
   "file_extension": ".py",
   "mimetype": "text/x-python",
   "name": "python",
   "nbconvert_exporter": "python",
   "pygments_lexer": "ipython3",
   "version": "3.7.6"
  }
 },
 "nbformat": 4,
 "nbformat_minor": 4
}
